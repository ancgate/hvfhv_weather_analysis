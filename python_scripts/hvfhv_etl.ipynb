{
  "nbformat": 4,
  "nbformat_minor": 0,
  "metadata": {
    "colab": {
      "provenance": [],
      "include_colab_link": true
    },
    "kernelspec": {
      "name": "python3",
      "display_name": "Python 3"
    },
    "language_info": {
      "name": "python"
    }
  },
  "cells": [
    {
      "cell_type": "markdown",
      "metadata": {
        "id": "view-in-github",
        "colab_type": "text"
      },
      "source": [
        "<a href=\"https://colab.research.google.com/github/ancgate/hvfhv_weather_analysis/blob/main/python_scripts/hvfhv_etl.ipynb\" target=\"_parent\"><img src=\"https://colab.research.google.com/assets/colab-badge.svg\" alt=\"Open In Colab\"/></a>"
      ]
    },
    {
      "cell_type": "markdown",
      "source": [
        "## Installing Libraries\n"
      ],
      "metadata": {
        "id": "I3j799-Wl_Xj"
      }
    },
    {
      "cell_type": "code",
      "execution_count": null,
      "metadata": {
        "colab": {
          "base_uri": "https://localhost:8080/"
        },
        "id": "YgPRsSj7ltJQ",
        "outputId": "91b17116-f0db-4bb8-f1b6-4dab8d371c7c"
      },
      "outputs": [
        {
          "output_type": "stream",
          "name": "stdout",
          "text": [
            "Requirement already satisfied: beautifulsoup4 in /usr/local/lib/python3.10/dist-packages (4.12.3)\n",
            "Requirement already satisfied: soupsieve>1.2 in /usr/local/lib/python3.10/dist-packages (from beautifulsoup4) (2.6)\n",
            "Requirement already satisfied: requests in /usr/local/lib/python3.10/dist-packages (2.32.3)\n",
            "Requirement already satisfied: charset-normalizer<4,>=2 in /usr/local/lib/python3.10/dist-packages (from requests) (3.4.0)\n",
            "Requirement already satisfied: idna<4,>=2.5 in /usr/local/lib/python3.10/dist-packages (from requests) (3.10)\n",
            "Requirement already satisfied: urllib3<3,>=1.21.1 in /usr/local/lib/python3.10/dist-packages (from requests) (2.2.3)\n",
            "Requirement already satisfied: certifi>=2017.4.17 in /usr/local/lib/python3.10/dist-packages (from requests) (2024.8.30)\n",
            "Collecting azure-storage-blob\n",
            "  Downloading azure_storage_blob-12.23.1-py3-none-any.whl.metadata (26 kB)\n",
            "Collecting azure-core>=1.30.0 (from azure-storage-blob)\n",
            "  Downloading azure_core-1.32.0-py3-none-any.whl.metadata (39 kB)\n",
            "Requirement already satisfied: cryptography>=2.1.4 in /usr/local/lib/python3.10/dist-packages (from azure-storage-blob) (43.0.3)\n",
            "Requirement already satisfied: typing-extensions>=4.6.0 in /usr/local/lib/python3.10/dist-packages (from azure-storage-blob) (4.12.2)\n",
            "Collecting isodate>=0.6.1 (from azure-storage-blob)\n",
            "  Downloading isodate-0.7.2-py3-none-any.whl.metadata (11 kB)\n",
            "Requirement already satisfied: requests>=2.21.0 in /usr/local/lib/python3.10/dist-packages (from azure-core>=1.30.0->azure-storage-blob) (2.32.3)\n",
            "Requirement already satisfied: six>=1.11.0 in /usr/local/lib/python3.10/dist-packages (from azure-core>=1.30.0->azure-storage-blob) (1.16.0)\n",
            "Requirement already satisfied: cffi>=1.12 in /usr/local/lib/python3.10/dist-packages (from cryptography>=2.1.4->azure-storage-blob) (1.17.1)\n",
            "Requirement already satisfied: pycparser in /usr/local/lib/python3.10/dist-packages (from cffi>=1.12->cryptography>=2.1.4->azure-storage-blob) (2.22)\n",
            "Requirement already satisfied: charset-normalizer<4,>=2 in /usr/local/lib/python3.10/dist-packages (from requests>=2.21.0->azure-core>=1.30.0->azure-storage-blob) (3.4.0)\n",
            "Requirement already satisfied: idna<4,>=2.5 in /usr/local/lib/python3.10/dist-packages (from requests>=2.21.0->azure-core>=1.30.0->azure-storage-blob) (3.10)\n",
            "Requirement already satisfied: urllib3<3,>=1.21.1 in /usr/local/lib/python3.10/dist-packages (from requests>=2.21.0->azure-core>=1.30.0->azure-storage-blob) (2.2.3)\n",
            "Requirement already satisfied: certifi>=2017.4.17 in /usr/local/lib/python3.10/dist-packages (from requests>=2.21.0->azure-core>=1.30.0->azure-storage-blob) (2024.8.30)\n",
            "Downloading azure_storage_blob-12.23.1-py3-none-any.whl (405 kB)\n",
            "\u001b[2K   \u001b[90m━━━━━━━━━━━━━━━━━━━━━━━━━━━━━━━━━━━━━━━━\u001b[0m \u001b[32m405.6/405.6 kB\u001b[0m \u001b[31m7.3 MB/s\u001b[0m eta \u001b[36m0:00:00\u001b[0m\n",
            "\u001b[?25hDownloading azure_core-1.32.0-py3-none-any.whl (198 kB)\n",
            "\u001b[2K   \u001b[90m━━━━━━━━━━━━━━━━━━━━━━━━━━━━━━━━━━━━━━━━\u001b[0m \u001b[32m198.9/198.9 kB\u001b[0m \u001b[31m6.4 MB/s\u001b[0m eta \u001b[36m0:00:00\u001b[0m\n",
            "\u001b[?25hDownloading isodate-0.7.2-py3-none-any.whl (22 kB)\n",
            "Installing collected packages: isodate, azure-core, azure-storage-blob\n",
            "Successfully installed azure-core-1.32.0 azure-storage-blob-12.23.1 isodate-0.7.2\n"
          ]
        }
      ],
      "source": [
        "!pip install beautifulsoup4\n",
        "!pip install requests\n",
        "!pip install azure-storage-blob\n",
        "!pip install google-cloud-storage\n",
        "!pip install boto3"
      ]
    },
    {
      "cell_type": "markdown",
      "source": [
        "## Importing Libraries"
      ],
      "metadata": {
        "id": "7MN9DDemmBxX"
      }
    },
    {
      "cell_type": "code",
      "source": [
        "import requests\n",
        "from bs4 import BeautifulSoup\n",
        "import pandas as pd\n",
        "import numpy as np\n",
        "import warnings\n",
        "warnings.filterwarnings('ignore')\n",
        "import json\n",
        "import re\n",
        "import os\n",
        "import time\n",
        "from azure.storage.blob import BlobServiceClient, BlobClient, ContainerClient\n",
        "from io import StringIO\n",
        "import pyarrow.parquet as pq"
      ],
      "metadata": {
        "id": "TQeXO_GAmUAB"
      },
      "execution_count": null,
      "outputs": []
    },
    {
      "cell_type": "markdown",
      "source": [
        "# Extracting Taxi Data from Azure"
      ],
      "metadata": {
        "id": "3QfkXyhDmEcv"
      }
    },
    {
      "cell_type": "code",
      "source": [
        "AZURE_STORAGE_CONNECTION_STRING = \"DefaultEndpointsProtocol=https;AccountName=sthvfhv;AccountKey=s80KlsohKqOOC6bLjRJgpmJiPqylM82RIRgREa8EAl0pttAEX9xjGZ1UFzKP6McqTpnMtcvI8mCq+AStptDIcw==;EndpointSuffix=core.windows.net\"\n",
        "CONTAINER_NAME = \"hvfhv\"\n",
        "prefix = \"fhvhv\"  # Prefix for files\n",
        "\n",
        "# Initialize the BlobServiceClient\n",
        "blob_service_client = BlobServiceClient.from_connection_string(connection_string)\n",
        "container_client = blob_service_client.get_container_client(container_name)\n",
        "\n",
        "# List and download Parquet files starting with 'fhvhv'\n",
        "parquet_dfs = []  # List to hold each DataFrame\n",
        "\n",
        "# Iterate through blobs in the container that match the prefix\n",
        "for blob in container_client.list_blobs(name_starts_with=prefix):\n",
        "    if blob.name.endswith(\".parquet\"):\n",
        "        print(f\"Downloading: {blob.name}\")\n",
        "        # Download the blob as bytes\n",
        "        blob_client = container_client.get_blob_client(blob)\n",
        "        parquet_data = blob_client.download_blob().readall()\n",
        "\n",
        "        # Convert the bytes data into a DataFrame\n",
        "        parquet_buffer = BytesIO(parquet_data)\n",
        "        df = pq.read_table(parquet_buffer).to_pandas()\n",
        "\n",
        "        # Append the DataFrame to the list\n",
        "        parquet_dfs.append(df)\n",
        "        break  # Remove this line if you want to download all Parquet files\n",
        "\n",
        "# Concatenate all DataFrames (optional, if you want a single DataFrame)\n",
        "combined_df = pd.concat(parquet_dfs, ignore_index=True)\n",
        "\n",
        "print(\"Parquet files retrieved and combined successfully.\")"
      ],
      "metadata": {
        "id": "L9rSLFDqnN-x"
      },
      "execution_count": null,
      "outputs": []
    },
    {
      "cell_type": "markdown",
      "source": [
        "# Extracting Data for OpenMeteo"
      ],
      "metadata": {
        "id": "6BQe3jrlmJnu"
      }
    },
    {
      "cell_type": "code",
      "source": [
        "csv_buffer = StringIO()\n",
        "combined_df.to_csv(csv_buffer, index=False)\n",
        "csv_buffer.seek(0)\n",
        "blob_name = \"weather_data.csv\"\n",
        "# Initialize the BlobServiceClient\n",
        "blob_service_client = BlobServiceClient.from_connection_string(AZURE_STORAGE_CONNECTION_STRING)\n",
        "blob_client = blob_service_client.get_blob_client(container=CONTAINER_NAME, blob=blob_name)\n",
        "\n",
        "# Upload the CSV data\n",
        "blob_client.upload_blob(csv_buffer.getvalue(), blob_type=\"BlockBlob\", overwrite=True)\n",
        "\n",
        "print(\"CSV uploaded to Azure Blob Storage successfully.\")"
      ],
      "metadata": {
        "id": "-a3k8KKLhB6k"
      },
      "execution_count": null,
      "outputs": []
    },
    {
      "cell_type": "markdown",
      "source": [
        "## Cleaning Data"
      ],
      "metadata": {
        "id": "L9PUqrZapFME"
      }
    },
    {
      "cell_type": "code",
      "source": [],
      "metadata": {
        "id": "7V4WAe3ajRkC"
      },
      "execution_count": null,
      "outputs": []
    },
    {
      "cell_type": "markdown",
      "source": [
        "### Reformatting Taxi Data"
      ],
      "metadata": {
        "id": "qrHMuZBJjSEG"
      }
    },
    {
      "cell_type": "code",
      "source": [],
      "metadata": {
        "id": "q3a2NW6vjXYN"
      },
      "execution_count": null,
      "outputs": []
    },
    {
      "cell_type": "markdown",
      "source": [
        "### Transformation Taxi Data"
      ],
      "metadata": {
        "id": "vZwZKMeMjU4a"
      }
    },
    {
      "cell_type": "code",
      "source": [],
      "metadata": {
        "id": "Ft8d6mgEjZHw"
      },
      "execution_count": null,
      "outputs": []
    }
  ]
}